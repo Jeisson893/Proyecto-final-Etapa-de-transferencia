{
 "cells": [
  {
   "cell_type": "markdown",
   "id": "cdcec669",
   "metadata": {},
   "source": [
    "# 1. Evaluación de los resultados respecto a la problemática definida:"
   ]
  },
  {
   "cell_type": "code",
   "execution_count": 1,
   "id": "3f4d7cee",
   "metadata": {},
   "outputs": [
    {
     "name": "stdout",
     "output_type": "stream",
     "text": [
      "Media Presión Arterial: 132.08992805755395, Desviación Estándar: 19.077093087446126\n",
      "Media Colesterol: 200.0335731414868, Desviación Estándar: 110.52717210827461\n"
     ]
    }
   ],
   "source": [
    "# Recordatorio del objetivo inicial: Identificación de factores que influyen en enfermedades cardíacas.\n",
    "import pandas as pd\n",
    "\n",
    "# Cargar el conjunto de datos\n",
    "data = pd.read_csv('heart_disease_uci.csv')\n",
    "\n",
    "# Ver las primeras filas\n",
    "data.head()\n",
    "\n",
    "# Filtrar las columnas más relevantes para la evaluación del problema\n",
    "# Ejemplo: 'trestbps', 'chol', 'num' fueron clave en el análisis previo\n",
    "relevant_columns = ['trestbps', 'chol', 'num']\n",
    "filtered_data = data[relevant_columns].dropna()\n",
    "\n",
    "# Estadísticas descriptivas\n",
    "mean_trestbps = filtered_data['trestbps'].mean()\n",
    "std_trestbps = filtered_data['trestbps'].std()\n",
    "mean_chol = filtered_data['chol'].mean()\n",
    "std_chol = filtered_data['chol'].std()\n",
    "\n",
    "print(f\"Media Presión Arterial: {mean_trestbps}, Desviación Estándar: {std_trestbps}\")\n",
    "print(f\"Media Colesterol: {mean_chol}, Desviación Estándar: {std_chol}\")\n"
   ]
  },
  {
   "cell_type": "markdown",
   "id": "7dd471cc",
   "metadata": {},
   "source": [
    "# 2. Evaluación del rendimiento del modelo:\n",
    "Se sugiere comparar métricas de rendimiento del modelo como el coeficiente de determinación (R²) para ver si el modelo explica suficientemente bien la variabilidad de los datos:"
   ]
  },
  {
   "cell_type": "code",
   "execution_count": 2,
   "id": "30a660d5",
   "metadata": {},
   "outputs": [
    {
     "name": "stdout",
     "output_type": "stream",
     "text": [
      "Coeficiente de Determinación R²: 0.008621722952801059\n"
     ]
    }
   ],
   "source": [
    "import numpy as np\n",
    "from sklearn.linear_model import LinearRegression\n",
    "from sklearn.metrics import r2_score\n",
    "\n",
    "# Variables: X = trestbps, y = chol\n",
    "X = filtered_data['trestbps'].values.reshape(-1, 1)\n",
    "y = filtered_data['chol'].values\n",
    "\n",
    "# Crear y entrenar el modelo\n",
    "model = LinearRegression()\n",
    "model.fit(X, y)\n",
    "\n",
    "# Predicción\n",
    "y_pred = model.predict(X)\n",
    "\n",
    "# Calcular R²\n",
    "r2 = r2_score(y, y_pred)\n",
    "print(f\"Coeficiente de Determinación R²: {r2}\")\n"
   ]
  },
  {
   "cell_type": "markdown",
   "id": "71f299fc",
   "metadata": {},
   "source": [
    "# 3. Procesamiento adicional o recopilación de más datos:\n",
    "Se puede probar diferentes transformaciones o agregar nuevas variables como la edad (age), el sexo (sex), o variables categóricas como cp (tipo de dolor en el pecho):"
   ]
  },
  {
   "cell_type": "code",
   "execution_count": 3,
   "id": "02b3debc",
   "metadata": {},
   "outputs": [
    {
     "name": "stdout",
     "output_type": "stream",
     "text": [
      "               age  trestbps      chol       num\n",
      "age       1.000000  0.253467 -0.088470  0.334203\n",
      "trestbps  0.253467  1.000000  0.092853  0.128628\n",
      "chol     -0.088470  0.092853  1.000000 -0.251563\n",
      "num       0.334203  0.128628 -0.251563  1.000000\n"
     ]
    }
   ],
   "source": [
    "# Agregar nuevas variables al análisis\n",
    "new_columns = ['age', 'sex', 'cp']\n",
    "new_filtered_data = data[new_columns + relevant_columns].dropna()\n",
    "\n",
    "# Visualizar correlaciones entre variables\n",
    "correlation_matrix = new_filtered_data.corr()\n",
    "print(correlation_matrix)\n"
   ]
  },
  {
   "cell_type": "markdown",
   "id": "2e0bbcc4",
   "metadata": {},
   "source": [
    "# 4. Experimento con hiperparámetros:\n",
    "El uso de modelos más complejos como el de regresión de Lasso y Ridge que incluyen regularización podría ser útil si hay sobreajuste:"
   ]
  },
  {
   "cell_type": "code",
   "execution_count": 4,
   "id": "04d54705",
   "metadata": {},
   "outputs": [
    {
     "data": {
      "text/plain": [
       "Ridge(alpha=0.1)"
      ]
     },
     "execution_count": 4,
     "metadata": {},
     "output_type": "execute_result"
    }
   ],
   "source": [
    "from sklearn.linear_model import Lasso, Ridge\n",
    "\n",
    "# Entrenamiento con Lasso (Regularización L1)\n",
    "lasso_model = Lasso(alpha=0.1)\n",
    "lasso_model.fit(X, y)\n",
    "\n",
    "# Entrenamiento con Ridge (Regularización L2)\n",
    "ridge_model = Ridge(alpha=0.1)\n",
    "ridge_model.fit(X, y)\n"
   ]
  },
  {
   "cell_type": "markdown",
   "id": "28546f22",
   "metadata": {},
   "source": [
    "# 5. Creación de nuevas características:\n",
    "Se pueden crear nuevas variables combinando variables existentes, como ratios:"
   ]
  },
  {
   "cell_type": "code",
   "execution_count": 5,
   "id": "e5451da7",
   "metadata": {},
   "outputs": [],
   "source": [
    "# Creación de nuevas características\n",
    "data['chol_trestbps_ratio'] = data['chol'] / data['trestbps']\n"
   ]
  },
  {
   "cell_type": "markdown",
   "id": "55c38637",
   "metadata": {},
   "source": [
    "# MEJORAMIENTO DEL MODELO"
   ]
  },
  {
   "cell_type": "markdown",
   "id": "7e60e023",
   "metadata": {},
   "source": [
    "# 1. Importación de bibliotecas y carga de datos:\n",
    "Comenzamos cargando las bibliotecas necesarias y los datos.\n",
    "\n",
    "Desde Jupyter Notebook: Utiliza el comando mágico ! para ejecutar comandos de shell directamente en una celda en este caso especifico para instalar Dash:"
   ]
  },
  {
   "cell_type": "code",
   "execution_count": 7,
   "id": "73cc28e4",
   "metadata": {},
   "outputs": [
    {
     "data": {
      "text/html": [
       "<div>\n",
       "<style scoped>\n",
       "    .dataframe tbody tr th:only-of-type {\n",
       "        vertical-align: middle;\n",
       "    }\n",
       "\n",
       "    .dataframe tbody tr th {\n",
       "        vertical-align: top;\n",
       "    }\n",
       "\n",
       "    .dataframe thead th {\n",
       "        text-align: right;\n",
       "    }\n",
       "</style>\n",
       "<table border=\"1\" class=\"dataframe\">\n",
       "  <thead>\n",
       "    <tr style=\"text-align: right;\">\n",
       "      <th></th>\n",
       "      <th>id</th>\n",
       "      <th>age</th>\n",
       "      <th>sex</th>\n",
       "      <th>dataset</th>\n",
       "      <th>cp</th>\n",
       "      <th>trestbps</th>\n",
       "      <th>chol</th>\n",
       "      <th>fbs</th>\n",
       "      <th>restecg</th>\n",
       "      <th>thalch</th>\n",
       "      <th>exang</th>\n",
       "      <th>oldpeak</th>\n",
       "      <th>slope</th>\n",
       "      <th>ca</th>\n",
       "      <th>thal</th>\n",
       "      <th>num</th>\n",
       "    </tr>\n",
       "  </thead>\n",
       "  <tbody>\n",
       "    <tr>\n",
       "      <th>0</th>\n",
       "      <td>1</td>\n",
       "      <td>63</td>\n",
       "      <td>Male</td>\n",
       "      <td>Cleveland</td>\n",
       "      <td>typical angina</td>\n",
       "      <td>145.0</td>\n",
       "      <td>233.0</td>\n",
       "      <td>True</td>\n",
       "      <td>lv hypertrophy</td>\n",
       "      <td>150.0</td>\n",
       "      <td>False</td>\n",
       "      <td>2.3</td>\n",
       "      <td>downsloping</td>\n",
       "      <td>0.0</td>\n",
       "      <td>fixed defect</td>\n",
       "      <td>0</td>\n",
       "    </tr>\n",
       "    <tr>\n",
       "      <th>1</th>\n",
       "      <td>2</td>\n",
       "      <td>67</td>\n",
       "      <td>Male</td>\n",
       "      <td>Cleveland</td>\n",
       "      <td>asymptomatic</td>\n",
       "      <td>160.0</td>\n",
       "      <td>286.0</td>\n",
       "      <td>False</td>\n",
       "      <td>lv hypertrophy</td>\n",
       "      <td>108.0</td>\n",
       "      <td>True</td>\n",
       "      <td>1.5</td>\n",
       "      <td>flat</td>\n",
       "      <td>3.0</td>\n",
       "      <td>normal</td>\n",
       "      <td>2</td>\n",
       "    </tr>\n",
       "    <tr>\n",
       "      <th>2</th>\n",
       "      <td>3</td>\n",
       "      <td>67</td>\n",
       "      <td>Male</td>\n",
       "      <td>Cleveland</td>\n",
       "      <td>asymptomatic</td>\n",
       "      <td>120.0</td>\n",
       "      <td>229.0</td>\n",
       "      <td>False</td>\n",
       "      <td>lv hypertrophy</td>\n",
       "      <td>129.0</td>\n",
       "      <td>True</td>\n",
       "      <td>2.6</td>\n",
       "      <td>flat</td>\n",
       "      <td>2.0</td>\n",
       "      <td>reversable defect</td>\n",
       "      <td>1</td>\n",
       "    </tr>\n",
       "    <tr>\n",
       "      <th>3</th>\n",
       "      <td>4</td>\n",
       "      <td>37</td>\n",
       "      <td>Male</td>\n",
       "      <td>Cleveland</td>\n",
       "      <td>non-anginal</td>\n",
       "      <td>130.0</td>\n",
       "      <td>250.0</td>\n",
       "      <td>False</td>\n",
       "      <td>normal</td>\n",
       "      <td>187.0</td>\n",
       "      <td>False</td>\n",
       "      <td>3.5</td>\n",
       "      <td>downsloping</td>\n",
       "      <td>0.0</td>\n",
       "      <td>normal</td>\n",
       "      <td>0</td>\n",
       "    </tr>\n",
       "    <tr>\n",
       "      <th>4</th>\n",
       "      <td>5</td>\n",
       "      <td>41</td>\n",
       "      <td>Female</td>\n",
       "      <td>Cleveland</td>\n",
       "      <td>atypical angina</td>\n",
       "      <td>130.0</td>\n",
       "      <td>204.0</td>\n",
       "      <td>False</td>\n",
       "      <td>lv hypertrophy</td>\n",
       "      <td>172.0</td>\n",
       "      <td>False</td>\n",
       "      <td>1.4</td>\n",
       "      <td>upsloping</td>\n",
       "      <td>0.0</td>\n",
       "      <td>normal</td>\n",
       "      <td>0</td>\n",
       "    </tr>\n",
       "  </tbody>\n",
       "</table>\n",
       "</div>"
      ],
      "text/plain": [
       "   id  age     sex    dataset               cp  trestbps   chol    fbs  \\\n",
       "0   1   63    Male  Cleveland   typical angina     145.0  233.0   True   \n",
       "1   2   67    Male  Cleveland     asymptomatic     160.0  286.0  False   \n",
       "2   3   67    Male  Cleveland     asymptomatic     120.0  229.0  False   \n",
       "3   4   37    Male  Cleveland      non-anginal     130.0  250.0  False   \n",
       "4   5   41  Female  Cleveland  atypical angina     130.0  204.0  False   \n",
       "\n",
       "          restecg  thalch  exang  oldpeak        slope   ca  \\\n",
       "0  lv hypertrophy   150.0  False      2.3  downsloping  0.0   \n",
       "1  lv hypertrophy   108.0   True      1.5         flat  3.0   \n",
       "2  lv hypertrophy   129.0   True      2.6         flat  2.0   \n",
       "3          normal   187.0  False      3.5  downsloping  0.0   \n",
       "4  lv hypertrophy   172.0  False      1.4    upsloping  0.0   \n",
       "\n",
       "                thal  num  \n",
       "0       fixed defect    0  \n",
       "1             normal    2  \n",
       "2  reversable defect    1  \n",
       "3             normal    0  \n",
       "4             normal    0  "
      ]
     },
     "execution_count": 7,
     "metadata": {},
     "output_type": "execute_result"
    }
   ],
   "source": [
    "# Importar bibliotecas necesarias\n",
    "import dash\n",
    "from dash import dcc, html\n",
    "from dash.dependencies import Input, Output\n",
    "import plotly.express as px\n",
    "import pandas as pd\n",
    "\n",
    "# Cargar los datos\n",
    "data = pd.read_csv('heart_disease_uci.csv')\n",
    "\n",
    "# Vista preliminar de los datos\n",
    "data.head()\n"
   ]
  },
  {
   "cell_type": "markdown",
   "id": "1a2346c1",
   "metadata": {},
   "source": [
    "# 2. Definir visualizaciones:\n",
    "utilizamos Plotly para crear gráficos que nos ayudarán a visualizar las variables clave del conjunto de datos. En este caso, se genera un histograma para observar la distribución de la presión arterial en reposo y un gráfico de dispersión para analizar la relación entre la presión arterial y el colesterol. Estas visualizaciones nos permiten identificar patrones iniciales y tener una comprensión preliminar de las correlaciones entre las variables."
   ]
  },
  {
   "cell_type": "code",
   "execution_count": 8,
   "id": "08667ee4",
   "metadata": {},
   "outputs": [],
   "source": [
    "# Ejemplo de visualización: histograma de la presión arterial en reposo (trestbps)\n",
    "hist_trestbps = px.histogram(data, x='trestbps', nbins=20, title='Distribución de la Presión Arterial en Reposo')\n",
    "\n",
    "# Gráfico de dispersión: Relación entre presión arterial y colesterol\n",
    "scatter_trestbps_chol = px.scatter(data, x='trestbps', y='chol', color='num', \n",
    "                                   title='Relación entre Presión Arterial y Colesterol')\n"
   ]
  },
  {
   "cell_type": "markdown",
   "id": "52f2ba7c",
   "metadata": {},
   "source": [
    "# 3. Crear el layout del dashboard:\n",
    "El layout define la estructura de la interfaz gráfica del dashboard. Utilizamos html.Div y dcc.Graph para organizar los componentes como gráficos y filtros en el dashboard. El filtro interactivo (dropdown) permite a los usuarios seleccionar un tipo de dolor en el pecho para ver cómo afecta las relaciones entre las variables. La disposición lógica de estos elementos garantiza una interfaz intuitiva y fácil de navegar para los usuarios."
   ]
  },
  {
   "cell_type": "code",
   "execution_count": 9,
   "id": "d92e86ca",
   "metadata": {},
   "outputs": [],
   "source": [
    "# Inicializar la aplicación Dash\n",
    "app = dash.Dash(__name__)\n",
    "\n",
    "# Layout de la aplicación\n",
    "app.layout = html.Div([\n",
    "    html.H1(\"Dashboard de Análisis de Enfermedades Cardíacas\"),\n",
    "    dcc.Graph(id='hist_trestbps', figure=hist_trestbps),\n",
    "    dcc.Graph(id='scatter_trestbps_chol', figure=scatter_trestbps_chol),\n",
    "    html.Label(\"Seleccionar Tipo de Dolor en el Pecho (cp):\"),\n",
    "    dcc.Dropdown(\n",
    "        id='cp_filter',\n",
    "        options=[{'label': 'Tipo {}'.format(i), 'value': i} for i in data['cp'].unique()],\n",
    "        value=data['cp'].unique()[0]\n",
    "    )\n",
    "])\n"
   ]
  },
  {
   "cell_type": "markdown",
   "id": "49614bec",
   "metadata": {},
   "source": [
    "# 4. Agregar interactividad con callbacks:\n",
    "Los callbacks de Dash son fundamentales para actualizar dinámicamente las visualizaciones en función de las interacciones del usuario. En este caso, se configura un callback que toma el valor seleccionado del dropdown y actualiza el gráfico de dispersión según el tipo de dolor en el pecho. Esto permite a los usuarios filtrar los datos y explorar las relaciones entre las variables en tiempo real, mejorando la experiencia interactiva del dashboard."
   ]
  },
  {
   "cell_type": "code",
   "execution_count": 10,
   "id": "360eddee",
   "metadata": {},
   "outputs": [],
   "source": [
    "@app.callback(\n",
    "    Output('scatter_trestbps_chol', 'figure'),\n",
    "    Input('cp_filter', 'value')\n",
    ")\n",
    "def update_graph(selected_cp):\n",
    "    # Filtrar los datos por el tipo de dolor en el pecho\n",
    "    filtered_data = data[data['cp'] == selected_cp]\n",
    "    \n",
    "    # Actualizar el gráfico de dispersión\n",
    "    updated_scatter = px.scatter(filtered_data, x='trestbps', y='chol', color='num',\n",
    "                                 title=f'Relación entre Presión Arterial y Colesterol (Tipo de dolor {selected_cp})')\n",
    "    return updated_scatter"
   ]
  },
  {
   "cell_type": "markdown",
   "id": "f4ed63bd",
   "metadata": {},
   "source": [
    "# 5. Contexto y narrativa:\n",
    "La narrativa es clave para guiar al usuario a través de los datos. Aquí, se añade una descripción que contextualiza los gráficos, explicando qué variables se están visualizando y por qué son importantes. El objetivo es hacer que los datos cuenten una historia coherente, permitiendo al usuario comprender fácilmente los insights clave del análisis sin tener que interpretar todo por sí mismo. Esto también hace el dashboard más accesible para audiencias no técnicas."
   ]
  },
  {
   "cell_type": "code",
   "execution_count": 11,
   "id": "2b53fc2b",
   "metadata": {},
   "outputs": [],
   "source": [
    "# En el layout, incluir texto explicativo\n",
    "app.layout = html.Div([\n",
    "    html.H1(\"Dashboard de Análisis de Enfermedades Cardíacas\"),\n",
    "    html.P(\"Este dashboard explora la relación entre las variables clave relacionadas con enfermedades cardíacas, \"\n",
    "           \"como la presión arterial y los niveles de colesterol, junto con el tipo de dolor en el pecho.\"),\n",
    "    dcc.Graph(id='hist_trestbps', figure=hist_trestbps),\n",
    "    dcc.Graph(id='scatter_trestbps_chol', figure=scatter_trestbps_chol),\n",
    "    html.Label(\"Seleccionar Tipo de Dolor en el Pecho (cp):\"),\n",
    "    dcc.Dropdown(id='cp_filter', options=[{'label': 'Tipo {}'.format(i), 'value': i} for i in data['cp'].unique()], value=data['cp'].unique()[0])\n",
    "])\n"
   ]
  },
  {
   "cell_type": "markdown",
   "id": "55d28eb5",
   "metadata": {},
   "source": [
    "# 6. Personalización del dashboard:\n",
    "En este paso, se ajustan los colores, fuentes y otros aspectos visuales del dashboard para que sea estéticamente agradable y fácil de entender. Una buena personalización no solo mejora la apariencia del dashboard, sino que también puede ayudar a destacar puntos importantes y hacer que la información sea más clara. Utilizar hojas de estilo CSS externas es una buena práctica para mantener un diseño limpio y coherente en toda la aplicación."
   ]
  },
  {
   "cell_type": "code",
   "execution_count": 12,
   "id": "268fe493",
   "metadata": {},
   "outputs": [],
   "source": [
    "# Personalización adicional con CSS (si es necesario)\n",
    "app.css.append_css({\n",
    "    'external_url': 'https://codepen.io/chriddyp/pen/bWLwgP.css'\n",
    "})"
   ]
  },
  {
   "cell_type": "markdown",
   "id": "03f93dc4",
   "metadata": {},
   "source": [
    "# 7. Pruebas y despliegue:\n",
    "Finalmente, se ejecuta la aplicación Dash."
   ]
  },
  {
   "cell_type": "code",
   "execution_count": 13,
   "id": "5e3fe1ca",
   "metadata": {},
   "outputs": [
    {
     "name": "stderr",
     "output_type": "stream",
     "text": [
      "C:\\Users\\jefen\\anaconda3\\lib\\site-packages\\dash\\resources.py:61: UserWarning:\n",
      "\n",
      "You have set your config to `serve_locally=True` but A local version of https://codepen.io/chriddyp/pen/bWLwgP.css is not available.\n",
      "If you added this file with `app.scripts.append_script` or `app.css.append_css`, use `external_scripts` or `external_stylesheets` instead.\n",
      "See https://dash.plotly.com/external-resources\n",
      "\n"
     ]
    },
    {
     "data": {
      "text/html": [
       "\n",
       "        <iframe\n",
       "            width=\"100%\"\n",
       "            height=\"650\"\n",
       "            src=\"http://127.0.0.1:8050/\"\n",
       "            frameborder=\"0\"\n",
       "            allowfullscreen\n",
       "            \n",
       "        ></iframe>\n",
       "        "
      ],
      "text/plain": [
       "<IPython.lib.display.IFrame at 0x28a54924fd0>"
      ]
     },
     "metadata": {},
     "output_type": "display_data"
    }
   ],
   "source": [
    "if __name__ == '__main__':\n",
    "    app.run(debug=True)"
   ]
  },
  {
   "cell_type": "code",
   "execution_count": null,
   "id": "a22fb1f8",
   "metadata": {},
   "outputs": [],
   "source": []
  }
 ],
 "metadata": {
  "kernelspec": {
   "display_name": "Python 3 (ipykernel)",
   "language": "python",
   "name": "python3"
  },
  "language_info": {
   "codemirror_mode": {
    "name": "ipython",
    "version": 3
   },
   "file_extension": ".py",
   "mimetype": "text/x-python",
   "name": "python",
   "nbconvert_exporter": "python",
   "pygments_lexer": "ipython3",
   "version": "3.9.12"
  }
 },
 "nbformat": 4,
 "nbformat_minor": 5
}
